{
 "cells": [
  {
   "cell_type": "code",
   "execution_count": 44,
   "metadata": {},
   "outputs": [],
   "source": [
    "import numpy as np\n",
    "import matplotlib.pyplot as plt\n",
    "from scipy.spatial import Voronoi, voronoi_plot_2d\n",
    "\n",
    "from standaloneSimulation import *"
   ]
  },
  {
   "cell_type": "code",
   "execution_count": 45,
   "metadata": {},
   "outputs": [],
   "source": [
    "\n",
    "#Definition av rum\n",
    "#Grid på 1000 x 1000\n",
    "#En pixel är 0.2 x 0.2 m i verkligheten total utsträckning på 1 km\n",
    "\n",
    "#Definition av tid\n",
    "#Season lenght = 112000\n",
    "#Vi räknar med att ett bi max lever 8 veckor\n",
    "#En dag är 2000 tidssteg\n",
    "\n",
    "def run_model(size, numStartingBees, numStartingFlowers, seasonLength, iterations):\n",
    "\n",
    "    beesim = BeeSimulation(size, numStartingBees, numStartingFlowers, seasonLength)\n",
    "\n",
    "    clustering_coefficients = []\n",
    "    min_radius = 10\n",
    "    vor = None\n",
    "    positions = [(flower.x, flower.y) for flower in beesim.environment.flowers]\n",
    "    vor_init = Voronoi(positions)\n",
    "    for _ in range(iterations):\n",
    "        beesim.Update()\n",
    "        if beesim.timestep % seasonLength ==0:\n",
    "            positions = [(flower.x, flower.y) for flower in beesim.environment.flowers]\n",
    "            vor = Voronoi(positions)\n",
    "            clustering_coefficients.append(clustering(vor, len(beesim.environment.flowers), min_radius))\n",
    "    \n",
    "    positions = [(flower.x, flower.y) for flower in beesim.environment.flowers]\n",
    "    \n",
    "    vor = Voronoi(positions)\n",
    "        \n",
    "\n",
    "    return vor_init, vor, clustering_coefficients\n",
    "        \n",
    "def clustering(vor, N, min_radius):\n",
    "    valid_count = 0\n",
    "    for region in vor.regions:\n",
    "        if not -1 in region and len(region) > 2:\n",
    "            polygon_points = vor.vertices[region]\n",
    "            area = 0.5 * np.abs(np.dot(polygon_points[:, 0], np.roll(polygon_points[:, 1], 1)) - np.dot(np.roll(polygon_points[:, 0], 1), polygon_points[:, 1]))\n",
    "            if area < np.pi*(min_radius**2):\n",
    "                valid_count += 1\n",
    "\n",
    "    clustering_coefficient = valid_count / N\n",
    "    return clustering_coefficient\n",
    "\n",
    "def plot_clustering(size, numStartingBees, numStartingFlowers, seasonLength, n_days):\n",
    "\n",
    "    fig, axes = plt.subplots(nrows=1, ncols=3, figsize=(15, 5))\n",
    "    vor_init, vor, clustering_coefficients = run_model(size, numStartingBees, numStartingFlowers, seasonLength, n_days)\n",
    "\n",
    "    # Plot Voronoi plot in the first column\n",
    "    voronoi_plot_2d(vor_init, ax=axes[0], show_vertices=False, line_colors='lightblue', line_width=2, line_alpha=0.6, point_size=8)\n",
    "    axes[0].set_title('Initial configuration')\n",
    "    axes[0].set_xlim(0, size)  \n",
    "    axes[0].set_ylim(0, size)  \n",
    "\n",
    "    # Plot Voronoi plot in the second column\n",
    "    voronoi_plot_2d(vor, ax=axes[1], show_vertices=False, line_colors='lightblue', line_width=2, line_alpha=0.6, point_size=8)\n",
    "    axes[1].set_title('Final configuration')\n",
    "    axes[1].set_xlim(0, size)  \n",
    "    axes[1].set_ylim(0, size)    \n",
    "\n",
    "    axes[2].plot(clustering_coefficients[:], label='Clustering')\n",
    "    axes[2].legend()\n",
    "\n",
    "    plt.tight_layout()\n",
    "\n",
    "    # Show the plots\n",
    "    plt.show()"
   ]
  },
  {
   "cell_type": "code",
   "execution_count": 48,
   "metadata": {},
   "outputs": [
    {
     "name": "stdout",
     "output_type": "stream",
     "text": [
      "\n",
      "An environment has been created of type: 'countryside'\n",
      "RIP: bee died of starvation.\n",
      "RIP: bee died of starvation.\n",
      "RIP: bee died of age: 12 days. Pollen levels: {5: 22, 2: 1, 3: 3}\n",
      "RIP: bee died of age: 19 days. Pollen levels: {5: 5, 1: 31}\n",
      "RIP: bee died of age: 20 days. Pollen levels: {5: 8, 4: 8, 3: 4, 2: 3}\n",
      "RIP: bee died of age: 23 days. Pollen levels: {5: 3, 4: 0, 1: 21, 3: 11}\n",
      "RIP: bee died of age: 26 days. Pollen levels: {5: 19, 3: 6}\n",
      "RIP: bee died of age: 28 days. Pollen levels: {1: 9, 5: 12}\n",
      "RIP: bee died of age: 32 days. Pollen levels: {1: 19}\n",
      "RIP: bee died of age: 51 days. Pollen levels: {4: 21, 3: 0}\n"
     ]
    },
    {
     "ename": "KeyboardInterrupt",
     "evalue": "",
     "output_type": "error",
     "traceback": [
      "\u001b[0;31m---------------------------------------------------------------------------\u001b[0m",
      "\u001b[0;31mKeyboardInterrupt\u001b[0m                         Traceback (most recent call last)",
      "\u001b[1;32m/Users/axelblidberg/Github/Boars/clusteringPlots.ipynb Cell 3\u001b[0m line \u001b[0;36m6\n\u001b[1;32m      <a href='vscode-notebook-cell:/Users/axelblidberg/Github/Boars/clusteringPlots.ipynb#W2sZmlsZQ%3D%3D?line=3'>4</a>\u001b[0m seasonLength \u001b[39m=\u001b[39m \u001b[39m4000\u001b[39m\n\u001b[1;32m      <a href='vscode-notebook-cell:/Users/axelblidberg/Github/Boars/clusteringPlots.ipynb#W2sZmlsZQ%3D%3D?line=4'>5</a>\u001b[0m iterations \u001b[39m=\u001b[39m (seasonLength)\u001b[39m*\u001b[39m\u001b[39m2\u001b[39m\n\u001b[0;32m----> <a href='vscode-notebook-cell:/Users/axelblidberg/Github/Boars/clusteringPlots.ipynb#W2sZmlsZQ%3D%3D?line=5'>6</a>\u001b[0m plot_clustering(size, numStartingBees, numStartingFlowers, seasonLength, iterations)\n",
      "\u001b[1;32m/Users/axelblidberg/Github/Boars/clusteringPlots.ipynb Cell 3\u001b[0m line \u001b[0;36m4\n\u001b[1;32m     <a href='vscode-notebook-cell:/Users/axelblidberg/Github/Boars/clusteringPlots.ipynb#W2sZmlsZQ%3D%3D?line=44'>45</a>\u001b[0m \u001b[39mdef\u001b[39;00m \u001b[39mplot_clustering\u001b[39m(size, numStartingBees, numStartingFlowers, seasonLength, n_days):\n\u001b[1;32m     <a href='vscode-notebook-cell:/Users/axelblidberg/Github/Boars/clusteringPlots.ipynb#W2sZmlsZQ%3D%3D?line=46'>47</a>\u001b[0m     fig, axes \u001b[39m=\u001b[39m plt\u001b[39m.\u001b[39msubplots(nrows\u001b[39m=\u001b[39m\u001b[39m1\u001b[39m, ncols\u001b[39m=\u001b[39m\u001b[39m3\u001b[39m, figsize\u001b[39m=\u001b[39m(\u001b[39m15\u001b[39m, \u001b[39m5\u001b[39m))\n\u001b[0;32m---> <a href='vscode-notebook-cell:/Users/axelblidberg/Github/Boars/clusteringPlots.ipynb#W2sZmlsZQ%3D%3D?line=47'>48</a>\u001b[0m     vor_init, vor, clustering_coefficients \u001b[39m=\u001b[39m run_model(size, numStartingBees, numStartingFlowers, seasonLength, n_days)\n\u001b[1;32m     <a href='vscode-notebook-cell:/Users/axelblidberg/Github/Boars/clusteringPlots.ipynb#W2sZmlsZQ%3D%3D?line=49'>50</a>\u001b[0m     \u001b[39m# Plot Voronoi plot in the first column\u001b[39;00m\n\u001b[1;32m     <a href='vscode-notebook-cell:/Users/axelblidberg/Github/Boars/clusteringPlots.ipynb#W2sZmlsZQ%3D%3D?line=50'>51</a>\u001b[0m     voronoi_plot_2d(vor_init, ax\u001b[39m=\u001b[39maxes[\u001b[39m0\u001b[39m], show_vertices\u001b[39m=\u001b[39m\u001b[39mFalse\u001b[39;00m, line_colors\u001b[39m=\u001b[39m\u001b[39m'\u001b[39m\u001b[39mlightblue\u001b[39m\u001b[39m'\u001b[39m, line_width\u001b[39m=\u001b[39m\u001b[39m2\u001b[39m, line_alpha\u001b[39m=\u001b[39m\u001b[39m0.6\u001b[39m, point_size\u001b[39m=\u001b[39m\u001b[39m8\u001b[39m)\n",
      "\u001b[1;32m/Users/axelblidberg/Github/Boars/clusteringPlots.ipynb Cell 3\u001b[0m line \u001b[0;36m2\n\u001b[1;32m     <a href='vscode-notebook-cell:/Users/axelblidberg/Github/Boars/clusteringPlots.ipynb#W2sZmlsZQ%3D%3D?line=21'>22</a>\u001b[0m         positions \u001b[39m=\u001b[39m [(flower\u001b[39m.\u001b[39mx, flower\u001b[39m.\u001b[39my) \u001b[39mfor\u001b[39;00m flower \u001b[39min\u001b[39;00m beesim\u001b[39m.\u001b[39menvironment\u001b[39m.\u001b[39mflowers]\n\u001b[1;32m     <a href='vscode-notebook-cell:/Users/axelblidberg/Github/Boars/clusteringPlots.ipynb#W2sZmlsZQ%3D%3D?line=22'>23</a>\u001b[0m         vor \u001b[39m=\u001b[39m Voronoi(positions)\n\u001b[0;32m---> <a href='vscode-notebook-cell:/Users/axelblidberg/Github/Boars/clusteringPlots.ipynb#W2sZmlsZQ%3D%3D?line=23'>24</a>\u001b[0m         clustering_coefficients\u001b[39m.\u001b[39mappend(clustering(vor, \u001b[39mlen\u001b[39;49m(beesim\u001b[39m.\u001b[39;49menvironment\u001b[39m.\u001b[39;49mflowers), min_radius))\n\u001b[1;32m     <a href='vscode-notebook-cell:/Users/axelblidberg/Github/Boars/clusteringPlots.ipynb#W2sZmlsZQ%3D%3D?line=25'>26</a>\u001b[0m positions \u001b[39m=\u001b[39m [(flower\u001b[39m.\u001b[39mx, flower\u001b[39m.\u001b[39my) \u001b[39mfor\u001b[39;00m flower \u001b[39min\u001b[39;00m beesim\u001b[39m.\u001b[39menvironment\u001b[39m.\u001b[39mflowers]\n\u001b[1;32m     <a href='vscode-notebook-cell:/Users/axelblidberg/Github/Boars/clusteringPlots.ipynb#W2sZmlsZQ%3D%3D?line=27'>28</a>\u001b[0m vor \u001b[39m=\u001b[39m Voronoi(positions)\n",
      "\u001b[1;32m/Users/axelblidberg/Github/Boars/clusteringPlots.ipynb Cell 3\u001b[0m line \u001b[0;36m3\n\u001b[1;32m     <a href='vscode-notebook-cell:/Users/axelblidberg/Github/Boars/clusteringPlots.ipynb#W2sZmlsZQ%3D%3D?line=35'>36</a>\u001b[0m \u001b[39mif\u001b[39;00m \u001b[39mnot\u001b[39;00m \u001b[39m-\u001b[39m\u001b[39m1\u001b[39m \u001b[39min\u001b[39;00m region \u001b[39mand\u001b[39;00m \u001b[39mlen\u001b[39m(region) \u001b[39m>\u001b[39m \u001b[39m2\u001b[39m:\n\u001b[1;32m     <a href='vscode-notebook-cell:/Users/axelblidberg/Github/Boars/clusteringPlots.ipynb#W2sZmlsZQ%3D%3D?line=36'>37</a>\u001b[0m     polygon_points \u001b[39m=\u001b[39m vor\u001b[39m.\u001b[39mvertices[region]\n\u001b[0;32m---> <a href='vscode-notebook-cell:/Users/axelblidberg/Github/Boars/clusteringPlots.ipynb#W2sZmlsZQ%3D%3D?line=37'>38</a>\u001b[0m     area \u001b[39m=\u001b[39m \u001b[39m0.5\u001b[39m \u001b[39m*\u001b[39m np\u001b[39m.\u001b[39mabs(np\u001b[39m.\u001b[39mdot(polygon_points[:, \u001b[39m0\u001b[39m], np\u001b[39m.\u001b[39;49mroll(polygon_points[:, \u001b[39m1\u001b[39;49m], \u001b[39m1\u001b[39;49m)) \u001b[39m-\u001b[39m np\u001b[39m.\u001b[39mdot(np\u001b[39m.\u001b[39mroll(polygon_points[:, \u001b[39m0\u001b[39m], \u001b[39m1\u001b[39m), polygon_points[:, \u001b[39m1\u001b[39m]))\n\u001b[1;32m     <a href='vscode-notebook-cell:/Users/axelblidberg/Github/Boars/clusteringPlots.ipynb#W2sZmlsZQ%3D%3D?line=38'>39</a>\u001b[0m     \u001b[39mif\u001b[39;00m area \u001b[39m<\u001b[39m np\u001b[39m.\u001b[39mpi\u001b[39m*\u001b[39m(min_radius\u001b[39m*\u001b[39m\u001b[39m*\u001b[39m\u001b[39m2\u001b[39m):\n\u001b[1;32m     <a href='vscode-notebook-cell:/Users/axelblidberg/Github/Boars/clusteringPlots.ipynb#W2sZmlsZQ%3D%3D?line=39'>40</a>\u001b[0m         valid_count \u001b[39m+\u001b[39m\u001b[39m=\u001b[39m \u001b[39m1\u001b[39m\n",
      "File \u001b[0;32m/Library/Frameworks/Python.framework/Versions/3.12/lib/python3.12/site-packages/numpy/core/numeric.py:1125\u001b[0m, in \u001b[0;36m_roll_dispatcher\u001b[0;34m(a, shift, axis)\u001b[0m\n\u001b[1;32m   1121\u001b[0m     res \u001b[39m=\u001b[39m dot(at, bt)\n\u001b[1;32m   1122\u001b[0m     \u001b[39mreturn\u001b[39;00m res\u001b[39m.\u001b[39mreshape(olda \u001b[39m+\u001b[39m oldb)\n\u001b[0;32m-> 1125\u001b[0m \u001b[39mdef\u001b[39;00m \u001b[39m_roll_dispatcher\u001b[39m(a, shift, axis\u001b[39m=\u001b[39m\u001b[39mNone\u001b[39;00m):\n\u001b[1;32m   1126\u001b[0m     \u001b[39mreturn\u001b[39;00m (a,)\n\u001b[1;32m   1129\u001b[0m \u001b[39m@array_function_dispatch\u001b[39m(_roll_dispatcher)\n\u001b[1;32m   1130\u001b[0m \u001b[39mdef\u001b[39;00m \u001b[39mroll\u001b[39m(a, shift, axis\u001b[39m=\u001b[39m\u001b[39mNone\u001b[39;00m):\n",
      "\u001b[0;31mKeyboardInterrupt\u001b[0m: "
     ]
    },
    {
     "data": {
      "image/png": "[encoded data removed]",
      "text/plain": [
       "<Figure size 1500x500 with 3 Axes>"
      ]
     },
     "metadata": {},
     "output_type": "display_data"
    }
   ],
   "source": [
    "size = 1000\n",
    "numStartingBees = 10\n",
    "numStartingFlowers = 2000\n",
    "seasonLength = 1000\n",
    "iterations = (seasonLength)*2\n",
    "plot_clustering(size, numStartingBees, numStartingFlowers, seasonLength, iterations)"
   ]
  }
 ],
 "metadata": {
  "kernelspec": {
   "display_name": "Python 3",
   "language": "python",
   "name": "python3"
  },
  "language_info": {
   "codemirror_mode": {
    "name": "ipython",
    "version": 3
   },
   "file_extension": ".py",
   "mimetype": "text/x-python",
   "name": "python",
   "nbconvert_exporter": "python",
   "pygments_lexer": "ipython3",
   "version": "3.12.0"
  }
 },
 "nbformat": 4,
 "nbformat_minor": 2
}
