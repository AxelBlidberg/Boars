{
 "cells": [
  {
   "cell_type": "code",
   "execution_count": 1,
   "metadata": {},
   "outputs": [],
   "source": [
    "import numpy as np\n",
    "import matplotlib.pyplot as plt\n",
    "from scipy.spatial import Voronoi, voronoi_plot_2d\n",
    "\n",
    "from standaloneSimulation import *"
   ]
  },
  {
   "cell_type": "code",
   "execution_count": 2,
   "metadata": {},
   "outputs": [],
   "source": [
    "\n",
    "#Definition av rum\n",
    "#Grid på 1000 x 1000\n",
    "#En pixel är 0.2 x 0.2 m i verkligheten total utsträckning på 1 km\n",
    "\n",
    "#Definition av tid\n",
    "#Season lenght = 112000\n",
    "#Vi räknar med att ett bi max lever 8 veckor\n",
    "#En dag är 2000 tidssteg\n",
    "\n",
    "def run_model(size, numStartingBees, numStartingFlowers, seasonLength, n_days):\n",
    "\n",
    "    beesim = BeeSimulation(size, numStartingBees, numStartingFlowers, seasonLength)\n",
    "\n",
    "    clustering_coefficients = []\n",
    "    min_radius = 10\n",
    "\n",
    "    positions = [(flower.x, flower.y) for flower in beesim.environment.flowers]\n",
    "    vor_init = Voronoi(positions)\n",
    "    for _ in range(2000*n_days):\n",
    "        beesim.Update()\n",
    "        positions = [(flower.x, flower.y) for flower in beesim.environment.flowers]\n",
    "        vor = Voronoi(positions)\n",
    "        #clustering_coefficients.append(clustering(vor, len(beesim.environment.flowers), min_radius))\n",
    "\n",
    "    return vor_init, vor, clustering_coefficients\n",
    "        \n",
    "def clustering(vor, N, min_radius):\n",
    "    valid_count = 0\n",
    "    for region in vor.regions:\n",
    "        if not -1 in region and len(region) > 2:\n",
    "            polygon_points = vor.vertices[region]\n",
    "            area = 0.5 * np.abs(np.dot(polygon_points[:, 0], np.roll(polygon_points[:, 1], 1)) - np.dot(np.roll(polygon_points[:, 0], 1), polygon_points[:, 1]))\n",
    "            if area < np.pi*(min_radius**2):\n",
    "                valid_count += 1\n",
    "\n",
    "    clustering_coefficient = valid_count / N\n",
    "    return clustering_coefficient\n",
    "\n",
    "def plot_clustering(size, numStartingBees, numStartingFlowers, seasonLength, n_days):\n",
    "\n",
    "    fig, axes = plt.subplots(nrows=1, ncols=3, figsize=(15, 5))\n",
    "    vor_init, vor, clustering_coefficients = run_model(size, numStartingBees, numStartingFlowers, seasonLength, n_days)\n",
    "\n",
    "    # Plot Voronoi plot in the first column\n",
    "    voronoi_plot_2d(vor_init, ax=axes[0], show_vertices=False, line_colors='lightblue', line_width=2, line_alpha=0.6, point_size=8)\n",
    "    axes[0].set_title('Initial configuration')\n",
    "    axes[0].set_xlim(0, size)  \n",
    "    axes[0].set_ylim(0, size)  \n",
    "\n",
    "    # Plot Voronoi plot in the second column\n",
    "    voronoi_plot_2d(vor, ax=axes[1], show_vertices=False, line_colors='lightblue', line_width=2, line_alpha=0.6, point_size=8)\n",
    "    axes[1].set_title('Final configuration')\n",
    "    axes[1].set_xlim(0, size)  \n",
    "    axes[1].set_ylim(0, size)    \n",
    "\n",
    "    axes[2].plot(clustering_coefficients[:], label='Clustering')\n",
    "    axes[2].legend()\n",
    "\n",
    "    plt.tight_layout()\n",
    "\n",
    "    # Show the plots\n",
    "    plt.show()"
   ]
  },
  {
   "cell_type": "code",
   "execution_count": 5,
   "metadata": {},
   "outputs": [
    {
     "name": "stdout",
     "output_type": "stream",
     "text": [
      "\n",
      "An environment has been created of type: 'countryside'\n",
      "RIP: bee died of starvation.\n",
      "RIP: bee died of age: 28 days. Pollen levels: {5: 2, 1: 19}\n",
      "RIP: bee died of starvation.\n"
     ]
    },
    {
     "ename": "TypeError",
     "evalue": "remove: path should be string, bytes or os.PathLike, not NoneType",
     "output_type": "error",
     "traceback": [
      "\u001b[0;31m---------------------------------------------------------------------------\u001b[0m",
      "\u001b[0;31mTypeError\u001b[0m                                 Traceback (most recent call last)",
      "File \u001b[0;32mmessagestream.pyx:91\u001b[0m, in \u001b[0;36mscipy._lib.messagestream.MessageStream.close\u001b[0;34m()\u001b[0m\n",
      "\u001b[0;31mTypeError\u001b[0m: remove: path should be string, bytes or os.PathLike, not NoneType"
     ]
    },
    {
     "ename": "",
     "evalue": "",
     "output_type": "error",
     "traceback": [
      "\u001b[1;31mThe Kernel crashed while executing code in the the current cell or a previous cell. Please review the code in the cell(s) to identify a possible cause of the failure. Click <a href='https://aka.ms/vscodeJupyterKernelCrash'>here</a> for more info. View Jupyter <a href='command:jupyter.viewOutput'>log</a> for further details."
     ]
    }
   ],
   "source": [
    "size = 500\n",
    "numStartingBees = 3 \n",
    "numStartingFlowers = 500\n",
    "seasonLength = 4000\n",
    "n_days = 10\n",
    "plot_clustering(size, numStartingBees, numStartingFlowers, seasonLength, n_days)"
   ]
  }
 ],
 "metadata": {
  "kernelspec": {
   "display_name": "Python 3",
   "language": "python",
   "name": "python3"
  },
  "language_info": {
   "codemirror_mode": {
    "name": "ipython",
    "version": 3
   },
   "file_extension": ".py",
   "mimetype": "text/x-python",
   "name": "python",
   "nbconvert_exporter": "python",
   "pygments_lexer": "ipython3",
   "version": "3.12.0"
  }
 },
 "nbformat": 4,
 "nbformat_minor": 2
}
